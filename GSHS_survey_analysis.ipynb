{
  "cells": [
    {
      "cell_type": "markdown",
      "metadata": {
        "id": "view-in-github",
        "colab_type": "text"
      },
      "source": [
        "<a href=\"https://colab.research.google.com/github/kaveripatel/-HEALTHCARE_ANALYTICS_SURVEY_PROJECT/blob/main/GSHS_survey_analysis.ipynb\" target=\"_parent\"><img src=\"https://colab.research.google.com/assets/colab-badge.svg\" alt=\"Open In Colab\"/></a>"
      ]
    },
    {
      "cell_type": "markdown",
      "metadata": {
        "id": "6Lx4W1S3BREA"
      },
      "source": [
        "# **A project about student’s behavioural health analyses on global school’s survey responses**"
      ]
    },
    {
      "cell_type": "markdown",
      "metadata": {
        "id": "a5fAeQDXlT8k"
      },
      "source": [
        "Group No: 003, Section: 001\n",
        "\n",
        "1.   Kaveriben Patel\n",
        "2.   Dhruva Ray\n",
        "3.   Vitthlesh Sheth\n",
        "\n"
      ]
    },
    {
      "cell_type": "markdown",
      "metadata": {
        "id": "0rFkuS2iAa9C"
      },
      "source": [
        "\n",
        "### **Import dataset for processing**"
      ]
    },
    {
      "cell_type": "code",
      "execution_count": 1,
      "metadata": {
        "colab": {
          "base_uri": "https://localhost:8080/"
        },
        "id": "Lj_CBBcZTtCt",
        "outputId": "9c9f380c-83a2-4103-80dd-b8974e13ccc2"
      },
      "outputs": [
        {
          "output_type": "stream",
          "name": "stdout",
          "text": [
            "Drive already mounted at /content/drive; to attempt to forcibly remount, call drive.mount(\"/content/drive\", force_remount=True).\n"
          ]
        }
      ],
      "source": [
        "from google.colab import drive\n",
        "drive.mount ('/content/drive')\n",
        "\n",
        "project_directory = '/content/drive/MyDrive/103_project/'\n",
        "\n",
        "import pandas as pd\n",
        "import numpy as np\n",
        "import seaborn as sns\n",
        "import matplotlib.pyplot as plt\n",
        "\n",
        "df = pd.read_excel(project_directory+'DASH_-_Global_School-based_Student_Health_Survey__GSHS_.xlsx')\n"
      ]
    },
    {
      "cell_type": "markdown",
      "metadata": {
        "id": "ngcoBPEWBx0S"
      },
      "source": [
        "### **Dataset Exploration**"
      ]
    },
    {
      "cell_type": "code",
      "execution_count": 2,
      "metadata": {
        "id": "mVo3AOBFc763",
        "colab": {
          "base_uri": "https://localhost:8080/"
        },
        "outputId": "df7de7a5-9c69-4668-939e-2ccd24dc98df"
      },
      "outputs": [
        {
          "output_type": "stream",
          "name": "stdout",
          "text": [
            "(278238, 34)\n"
          ]
        }
      ],
      "source": [
        "print(df.shape)"
      ]
    },
    {
      "cell_type": "code",
      "execution_count": 3,
      "metadata": {
        "id": "DkErcsVdL7KR",
        "colab": {
          "base_uri": "https://localhost:8080/"
        },
        "outputId": "35ebf864-83d6-4400-924f-6e63bce1ef65"
      },
      "outputs": [
        {
          "output_type": "stream",
          "name": "stdout",
          "text": [
            "Year                                            0\n",
            "LocationAbbr                                    0\n",
            "LocationDesc                                    0\n",
            "DataSource                                      0\n",
            "Topic                                           0\n",
            "Subtopic                                        0\n",
            "ShortQuestionText                               0\n",
            "Greater_Risk_Question                       29064\n",
            "Description                                 14061\n",
            "Data_Value_Symbol                               0\n",
            "Data_Value_Type                                 0\n",
            "Greater_Risk_Data_Value                     35593\n",
            "Greater_Risk_Data_Value_Footnote_Symbol    278238\n",
            "Greater_Risk_Data_Value_Footnote           278238\n",
            "Greater_Risk_Low_Confidence_Limit           35593\n",
            "Greater_Risk_High_Confidence_Limit          35593\n",
            "Lesser_Risk_Question                        34047\n",
            "Lesser_Risk_Data_Value                      35593\n",
            "Lesser_Risk_Data_Value_Footnote_Symbol     278238\n",
            "Lesser_Risk_Data_Value_Footnote            278238\n",
            "Lesser_Risk_High_Confidence_Limit           35593\n",
            "Lesser_Risk_Low_Confidence_Limit            35593\n",
            "Sample_Size                                     0\n",
            "Sex                                             0\n",
            "Age                                             0\n",
            "GeoLocation                                278238\n",
            "TopicID                                         0\n",
            "SubtopicID                                      0\n",
            "QuestionCode                                    0\n",
            "LocationId                                 278238\n",
            "StratID1                                        0\n",
            "StratID2                                        0\n",
            "StratID3                                        0\n",
            "StratificationType                              0\n",
            "dtype: int64\n"
          ]
        }
      ],
      "source": [
        "print(df.isnull().sum())"
      ]
    },
    {
      "cell_type": "code",
      "execution_count": 4,
      "metadata": {
        "id": "NyP4eBpOUXTo",
        "colab": {
          "base_uri": "https://localhost:8080/"
        },
        "outputId": "fc6dc161-788d-4ac0-b029-c20c915c9b48"
      },
      "outputs": [
        {
          "output_type": "stream",
          "name": "stdout",
          "text": [
            "   Year LocationAbbr     LocationDesc DataSource              Topic  \\\n",
            "0  2010           NU             Niue       GSHS  Dietary Behaviors   \n",
            "1  2003          UGB   Uganda (Urban)       GSHS  Dietary Behaviors   \n",
            "2  2011           SI  Solomon Islands       GSHS  Dietary Behaviors   \n",
            "3  2015           SH       Seychelles       GSHS      Mental Health   \n",
            "4  2011           SI  Solomon Islands       GSHS  Dietary Behaviors   \n",
            "\n",
            "        Subtopic            ShortQuestionText       Greater_Risk_Question  \\\n",
            "0    Body Weight                      Obesity                  Were obese   \n",
            "1     Vegetables     No vegetable consumption      Did not eat vegetables   \n",
            "2          Fruit  Fruit consumption >= 1 time                         NaN   \n",
            "3  Mental Health                Close Friends  Did not have close friends   \n",
            "4    Body Weight                   Overweight             Were overweight   \n",
            "\n",
            "                                    Description Data_Value_Symbol  ... Age  \\\n",
            "0  >+2SD from the median for BMI by age and sex                 %  ...  13   \n",
            "1          during the 30 days before the survey                 %  ...  13   \n",
            "2          during the 30 days before the survey                 %  ...  13   \n",
            "3                                           NaN                 %  ...  17   \n",
            "4  >+1SD from the median for BMI by age and sex                 %  ...  13   \n",
            "\n",
            "   GeoLocation  TopicID  SubtopicID  QuestionCode  LocationId StratID1  \\\n",
            "0          NaN      C05         C39      QNOBESEG         NaN       S1   \n",
            "1          NaN      C05         C19            G8         NaN       S7   \n",
            "2          NaN      C05         C41        QNFR1G         NaN       S8   \n",
            "3          NaN      C36         C46           G27         NaN       S8   \n",
            "4          NaN      C05         C39        QNOWTG         NaN       S8   \n",
            "\n",
            "   StratID2  StratID3  StratificationType  \n",
            "0        A2        NU     Western Pacific  \n",
            "1        A2       UGB             African  \n",
            "2        A2        SI     Western Pacific  \n",
            "3        A6        SH             African  \n",
            "4        A2        SI     Western Pacific  \n",
            "\n",
            "[5 rows x 34 columns]\n"
          ]
        }
      ],
      "source": [
        "# Display the first five rows of the data\n",
        "print(df.head())"
      ]
    },
    {
      "cell_type": "code",
      "execution_count": 5,
      "metadata": {
        "id": "56FXLtEhUZ5e",
        "colab": {
          "base_uri": "https://localhost:8080/"
        },
        "outputId": "251cd630-c65c-4b46-db8c-81668e0b8486"
      },
      "outputs": [
        {
          "output_type": "stream",
          "name": "stdout",
          "text": [
            "                Year  Greater_Risk_Data_Value  \\\n",
            "count  278238.000000            242645.000000   \n",
            "mean     2010.348964                33.794578   \n",
            "std         3.597095                26.785743   \n",
            "min      2003.000000                 0.000000   \n",
            "25%      2007.000000                10.455200   \n",
            "50%      2011.000000                26.017600   \n",
            "75%      2013.000000                55.111700   \n",
            "max      2015.000000               100.000000   \n",
            "\n",
            "       Greater_Risk_Data_Value_Footnote_Symbol  \\\n",
            "count                                      0.0   \n",
            "mean                                       NaN   \n",
            "std                                        NaN   \n",
            "min                                        NaN   \n",
            "25%                                        NaN   \n",
            "50%                                        NaN   \n",
            "75%                                        NaN   \n",
            "max                                        NaN   \n",
            "\n",
            "       Greater_Risk_Data_Value_Footnote  Greater_Risk_Low_Confidence_Limit  \\\n",
            "count                               0.0                      242645.000000   \n",
            "mean                                NaN                          28.941402   \n",
            "std                                 NaN                          25.516496   \n",
            "min                                 NaN                           0.000000   \n",
            "25%                                 NaN                           7.044400   \n",
            "50%                                 NaN                          20.333200   \n",
            "75%                                 NaN                          47.890700   \n",
            "max                                 NaN                         100.000000   \n",
            "\n",
            "       Greater_Risk_High_Confidence_Limit  Lesser_Risk_Data_Value  \\\n",
            "count                       242645.000000           242645.000000   \n",
            "mean                            39.321138               66.205422   \n",
            "std                             27.305866               26.785743   \n",
            "min                              0.000000                0.000000   \n",
            "25%                             15.416300               44.888300   \n",
            "50%                             32.843800               73.982400   \n",
            "75%                             62.102500               89.544800   \n",
            "max                            100.000000              100.000000   \n",
            "\n",
            "       Lesser_Risk_Data_Value_Footnote_Symbol  \\\n",
            "count                                     0.0   \n",
            "mean                                      NaN   \n",
            "std                                       NaN   \n",
            "min                                       NaN   \n",
            "25%                                       NaN   \n",
            "50%                                       NaN   \n",
            "75%                                       NaN   \n",
            "max                                       NaN   \n",
            "\n",
            "       Lesser_Risk_Data_Value_Footnote  Lesser_Risk_High_Confidence_Limit  \\\n",
            "count                              0.0                      242645.000000   \n",
            "mean                               NaN                          71.058598   \n",
            "std                                NaN                          25.516496   \n",
            "min                                NaN                           0.000000   \n",
            "25%                                NaN                          52.109300   \n",
            "50%                                NaN                          79.666800   \n",
            "75%                                NaN                          92.955600   \n",
            "max                                NaN                         100.000000   \n",
            "\n",
            "       Lesser_Risk_Low_Confidence_Limit    Sample_Size  GeoLocation  \\\n",
            "count                     242645.000000  278238.000000          0.0   \n",
            "mean                          60.678862     681.431807          NaN   \n",
            "std                           27.305866    1196.275968          NaN   \n",
            "min                            0.000000       0.000000          NaN   \n",
            "25%                           37.897500     168.000000          NaN   \n",
            "50%                           67.156200     355.000000          NaN   \n",
            "75%                           84.583700     797.000000          NaN   \n",
            "max                          100.000000   28256.000000          NaN   \n",
            "\n",
            "       LocationId  \n",
            "count         0.0  \n",
            "mean          NaN  \n",
            "std           NaN  \n",
            "min           NaN  \n",
            "25%           NaN  \n",
            "50%           NaN  \n",
            "75%           NaN  \n",
            "max           NaN  \n"
          ]
        }
      ],
      "source": [
        "# Display summary statistics for numerical columns\n",
        "print(df.describe())"
      ]
    },
    {
      "cell_type": "code",
      "execution_count": 6,
      "metadata": {
        "id": "GzjLQCeDUTIw",
        "colab": {
          "base_uri": "https://localhost:8080/"
        },
        "outputId": "f3ca6577-9f50-466e-90ee-4c5a912a04b9"
      },
      "outputs": [
        {
          "output_type": "stream",
          "name": "stdout",
          "text": [
            "<class 'pandas.core.frame.DataFrame'>\n",
            "RangeIndex: 278238 entries, 0 to 278237\n",
            "Data columns (total 34 columns):\n",
            " #   Column                                   Non-Null Count   Dtype  \n",
            "---  ------                                   --------------   -----  \n",
            " 0   Year                                     278238 non-null  int64  \n",
            " 1   LocationAbbr                             278238 non-null  object \n",
            " 2   LocationDesc                             278238 non-null  object \n",
            " 3   DataSource                               278238 non-null  object \n",
            " 4   Topic                                    278238 non-null  object \n",
            " 5   Subtopic                                 278238 non-null  object \n",
            " 6   ShortQuestionText                        278238 non-null  object \n",
            " 7   Greater_Risk_Question                    249174 non-null  object \n",
            " 8   Description                              264177 non-null  object \n",
            " 9   Data_Value_Symbol                        278238 non-null  object \n",
            " 10  Data_Value_Type                          278238 non-null  object \n",
            " 11  Greater_Risk_Data_Value                  242645 non-null  float64\n",
            " 12  Greater_Risk_Data_Value_Footnote_Symbol  0 non-null       float64\n",
            " 13  Greater_Risk_Data_Value_Footnote         0 non-null       float64\n",
            " 14  Greater_Risk_Low_Confidence_Limit        242645 non-null  float64\n",
            " 15  Greater_Risk_High_Confidence_Limit       242645 non-null  float64\n",
            " 16  Lesser_Risk_Question                     244191 non-null  object \n",
            " 17  Lesser_Risk_Data_Value                   242645 non-null  float64\n",
            " 18  Lesser_Risk_Data_Value_Footnote_Symbol   0 non-null       float64\n",
            " 19  Lesser_Risk_Data_Value_Footnote          0 non-null       float64\n",
            " 20  Lesser_Risk_High_Confidence_Limit        242645 non-null  float64\n",
            " 21  Lesser_Risk_Low_Confidence_Limit         242645 non-null  float64\n",
            " 22  Sample_Size                              278238 non-null  int64  \n",
            " 23  Sex                                      278238 non-null  object \n",
            " 24  Age                                      278238 non-null  object \n",
            " 25  GeoLocation                              0 non-null       float64\n",
            " 26  TopicID                                  278238 non-null  object \n",
            " 27  SubtopicID                               278238 non-null  object \n",
            " 28  QuestionCode                             278238 non-null  object \n",
            " 29  LocationId                               0 non-null       float64\n",
            " 30  StratID1                                 278238 non-null  object \n",
            " 31  StratID2                                 278238 non-null  object \n",
            " 32  StratID3                                 278238 non-null  object \n",
            " 33  StratificationType                       278238 non-null  object \n",
            "dtypes: float64(12), int64(2), object(20)\n",
            "memory usage: 72.2+ MB\n",
            "None\n"
          ]
        }
      ],
      "source": [
        "# Display information about the data types and non-null values for each column\n",
        "print(df.info())"
      ]
    },
    {
      "cell_type": "markdown",
      "metadata": {
        "id": "RAYgakyiCQ0G"
      },
      "source": [
        "Checking for total columns in dataframe"
      ]
    },
    {
      "cell_type": "code",
      "execution_count": 7,
      "metadata": {
        "id": "Dq65kxrCCdeL",
        "colab": {
          "base_uri": "https://localhost:8080/"
        },
        "outputId": "6f3e9f8b-cb65-4ccd-88f5-c6c864a3bb03"
      },
      "outputs": [
        {
          "output_type": "execute_result",
          "data": {
            "text/plain": [
              "34"
            ]
          },
          "metadata": {},
          "execution_count": 7
        }
      ],
      "source": [
        "len(df.columns)"
      ]
    },
    {
      "cell_type": "markdown",
      "metadata": {
        "id": "gLOnFkUTCe9P"
      },
      "source": [
        "Checking datatype of columns"
      ]
    },
    {
      "cell_type": "code",
      "execution_count": 8,
      "metadata": {
        "id": "fDeftmswCjUm",
        "colab": {
          "base_uri": "https://localhost:8080/"
        },
        "outputId": "eaf36b41-ac93-425b-ee34-fa4bbb3658e6"
      },
      "outputs": [
        {
          "output_type": "stream",
          "name": "stdout",
          "text": [
            "Year                                         int64\n",
            "LocationAbbr                                object\n",
            "LocationDesc                                object\n",
            "DataSource                                  object\n",
            "Topic                                       object\n",
            "Subtopic                                    object\n",
            "ShortQuestionText                           object\n",
            "Greater_Risk_Question                       object\n",
            "Description                                 object\n",
            "Data_Value_Symbol                           object\n",
            "Data_Value_Type                             object\n",
            "Greater_Risk_Data_Value                    float64\n",
            "Greater_Risk_Data_Value_Footnote_Symbol    float64\n",
            "Greater_Risk_Data_Value_Footnote           float64\n",
            "Greater_Risk_Low_Confidence_Limit          float64\n",
            "Greater_Risk_High_Confidence_Limit         float64\n",
            "Lesser_Risk_Question                        object\n",
            "Lesser_Risk_Data_Value                     float64\n",
            "Lesser_Risk_Data_Value_Footnote_Symbol     float64\n",
            "Lesser_Risk_Data_Value_Footnote            float64\n",
            "Lesser_Risk_High_Confidence_Limit          float64\n",
            "Lesser_Risk_Low_Confidence_Limit           float64\n",
            "Sample_Size                                  int64\n",
            "Sex                                         object\n",
            "Age                                         object\n",
            "GeoLocation                                float64\n",
            "TopicID                                     object\n",
            "SubtopicID                                  object\n",
            "QuestionCode                                object\n",
            "LocationId                                 float64\n",
            "StratID1                                    object\n",
            "StratID2                                    object\n",
            "StratID3                                    object\n",
            "StratificationType                          object\n",
            "dtype: object\n"
          ]
        }
      ],
      "source": [
        "print(df.dtypes)"
      ]
    },
    {
      "cell_type": "markdown",
      "metadata": {
        "id": "8Vy8DNVMCll9"
      },
      "source": [
        "Checking the number of rows and columns in the dataset"
      ]
    },
    {
      "cell_type": "code",
      "execution_count": 9,
      "metadata": {
        "id": "w3UjNtWwCo6o",
        "colab": {
          "base_uri": "https://localhost:8080/"
        },
        "outputId": "8284ee27-a5b2-45bb-f5e7-2239d4541ccf"
      },
      "outputs": [
        {
          "output_type": "stream",
          "name": "stdout",
          "text": [
            "Number of rows:  278238\n",
            "Number of columns:  34\n"
          ]
        }
      ],
      "source": [
        "print(\"Number of rows: \", df.shape[0])\n",
        "print(\"Number of columns: \", df.shape[1])"
      ]
    },
    {
      "cell_type": "markdown",
      "metadata": {
        "id": "ZjCBivsYCruX"
      },
      "source": [
        "Checking for total empty columns in dataframe"
      ]
    },
    {
      "cell_type": "code",
      "execution_count": 10,
      "metadata": {
        "id": "wwKSRg1cCwR7",
        "colab": {
          "base_uri": "https://localhost:8080/"
        },
        "outputId": "b5a242e6-5300-4e89-fa3e-b2ed8209ed2c"
      },
      "outputs": [
        {
          "output_type": "execute_result",
          "data": {
            "text/plain": [
              "Year                                       278238\n",
              "LocationAbbr                               278238\n",
              "LocationDesc                               278238\n",
              "DataSource                                 278238\n",
              "Topic                                      278238\n",
              "Subtopic                                   278238\n",
              "ShortQuestionText                          278238\n",
              "Greater_Risk_Question                      249174\n",
              "Description                                264177\n",
              "Data_Value_Symbol                          278238\n",
              "Data_Value_Type                            278238\n",
              "Greater_Risk_Data_Value                    242645\n",
              "Greater_Risk_Data_Value_Footnote_Symbol         0\n",
              "Greater_Risk_Data_Value_Footnote                0\n",
              "Greater_Risk_Low_Confidence_Limit          242645\n",
              "Greater_Risk_High_Confidence_Limit         242645\n",
              "Lesser_Risk_Question                       244191\n",
              "Lesser_Risk_Data_Value                     242645\n",
              "Lesser_Risk_Data_Value_Footnote_Symbol          0\n",
              "Lesser_Risk_Data_Value_Footnote                 0\n",
              "Lesser_Risk_High_Confidence_Limit          242645\n",
              "Lesser_Risk_Low_Confidence_Limit           242645\n",
              "Sample_Size                                278238\n",
              "Sex                                        278238\n",
              "Age                                        278238\n",
              "GeoLocation                                     0\n",
              "TopicID                                    278238\n",
              "SubtopicID                                 278238\n",
              "QuestionCode                               278238\n",
              "LocationId                                      0\n",
              "StratID1                                   278238\n",
              "StratID2                                   278238\n",
              "StratID3                                   278238\n",
              "StratificationType                         278238\n",
              "dtype: int64"
            ]
          },
          "metadata": {},
          "execution_count": 10
        }
      ],
      "source": [
        "df.count()"
      ]
    },
    {
      "cell_type": "markdown",
      "metadata": {
        "id": "8iiGiEZJCyXi"
      },
      "source": [
        "Checking for if there are any missing values in the dataset"
      ]
    },
    {
      "cell_type": "code",
      "execution_count": 11,
      "metadata": {
        "id": "WrulF12QC5Bk",
        "colab": {
          "base_uri": "https://localhost:8080/"
        },
        "outputId": "95207b21-bb94-4272-a6fe-00f048ef745e"
      },
      "outputs": [
        {
          "output_type": "stream",
          "name": "stdout",
          "text": [
            "Year                                            0\n",
            "LocationAbbr                                    0\n",
            "LocationDesc                                    0\n",
            "DataSource                                      0\n",
            "Topic                                           0\n",
            "Subtopic                                        0\n",
            "ShortQuestionText                               0\n",
            "Greater_Risk_Question                       29064\n",
            "Description                                 14061\n",
            "Data_Value_Symbol                               0\n",
            "Data_Value_Type                                 0\n",
            "Greater_Risk_Data_Value                     35593\n",
            "Greater_Risk_Data_Value_Footnote_Symbol    278238\n",
            "Greater_Risk_Data_Value_Footnote           278238\n",
            "Greater_Risk_Low_Confidence_Limit           35593\n",
            "Greater_Risk_High_Confidence_Limit          35593\n",
            "Lesser_Risk_Question                        34047\n",
            "Lesser_Risk_Data_Value                      35593\n",
            "Lesser_Risk_Data_Value_Footnote_Symbol     278238\n",
            "Lesser_Risk_Data_Value_Footnote            278238\n",
            "Lesser_Risk_High_Confidence_Limit           35593\n",
            "Lesser_Risk_Low_Confidence_Limit            35593\n",
            "Sample_Size                                     0\n",
            "Sex                                             0\n",
            "Age                                             0\n",
            "GeoLocation                                278238\n",
            "TopicID                                         0\n",
            "SubtopicID                                      0\n",
            "QuestionCode                                    0\n",
            "LocationId                                 278238\n",
            "StratID1                                        0\n",
            "StratID2                                        0\n",
            "StratID3                                        0\n",
            "StratificationType                              0\n",
            "dtype: int64\n"
          ]
        }
      ],
      "source": [
        "print(df.isnull().sum())"
      ]
    },
    {
      "cell_type": "code",
      "execution_count": 12,
      "metadata": {
        "id": "1qLPLreyIVe7"
      },
      "outputs": [],
      "source": [
        "#Deleted all empty or unusual columns from dataset\n",
        "df = df.drop(columns=['Data_Value_Symbol','Data_Value_Type','StratID1','StratID2','StratID3','DataSource','Greater_Risk_Data_Value_Footnote_Symbol', 'Greater_Risk_Data_Value_Footnote','Lesser_Risk_Data_Value_Footnote_Symbol','Lesser_Risk_Data_Value_Footnote','GeoLocation','LocationId','Sample_Size'])"
      ]
    },
    {
      "cell_type": "markdown",
      "metadata": {
        "id": "kqj2KOT3DSmt"
      },
      "source": [
        "### **Data Cleaning and manipulations**"
      ]
    },
    {
      "cell_type": "code",
      "execution_count": null,
      "metadata": {
        "id": "0x5D1DK4DWRq"
      },
      "outputs": [],
      "source": [
        "#replace all blank values with NaN in whole dataframe\n",
        "df.replace(r'^\\s*$', np.nan, regex=True)\n",
        "\n",
        "# Replace empty strings with NaN in the 'Age' column\n",
        "df['Age'] = df['Age'].replace('', np.nan)\n",
        "\n",
        "#remove Total text from age column\n",
        "df = df[df['Age'] != 'Total']\n",
        "df = df[df['Sex'] != 'Total']\n",
        "\n",
        "#replace all missing values with NaN\n",
        "df.replace(\" \", np.NaN, inplace=True)"
      ]
    },
    {
      "cell_type": "code",
      "execution_count": null,
      "metadata": {
        "id": "pP8TQzbBdU46"
      },
      "outputs": [],
      "source": [
        "df.rename(columns={'Sex': 'Gender'})"
      ]
    },
    {
      "cell_type": "code",
      "execution_count": null,
      "metadata": {
        "id": "SzJNS4BPIhzN"
      },
      "outputs": [],
      "source": [
        "len(df)\n"
      ]
    },
    {
      "cell_type": "code",
      "execution_count": null,
      "metadata": {
        "id": "6Jar2OVmKErO"
      },
      "outputs": [],
      "source": [
        "print(df.isnull().sum())"
      ]
    },
    {
      "cell_type": "code",
      "execution_count": null,
      "metadata": {
        "id": "H3MBCe3nYxKX"
      },
      "outputs": [],
      "source": [
        "# Create a new column named 'Age_Midpoint' using a lambda function and the 'apply()' method\n",
        "df['Age_Midpoint'] = df['Age'].apply(lambda age_group: (int(age_group.split('-')[0]) + int(age_group.split('-')[1])) / 2 if isinstance(age_group, str) and '-' in age_group else age_group)\n",
        "\n",
        "df['Age_Midpoint'] = df['Age_Midpoint'].astype(int)\n",
        "\n"
      ]
    },
    {
      "cell_type": "markdown",
      "metadata": {
        "id": "3Zc4AKa08MwI"
      },
      "source": [
        "# **Analysis Question 1: What types of trends or patterns have been occurred in behavioral risk (e.g., dietary behavior, mental health etc.) among students over the years?**"
      ]
    },
    {
      "cell_type": "code",
      "execution_count": null,
      "metadata": {
        "id": "WXzTU2vS7Z6N"
      },
      "outputs": [],
      "source": [
        "# Sort the dataframe by the count of each Topic in descending order\n",
        "topic_counts = df['Topic'].value_counts().sort_values(ascending=False)\n",
        "sorted_topics = list(topic_counts.index)\n",
        "sorted_topics\n",
        "\n",
        "# Plot the line chart with the legend order based on the sorted_topics list\n",
        "g = sns.relplot(x='Year', y='Greater_Risk_Data_Value', hue='Topic', kind='line', data=df, height=6, aspect=1.2,  hue_order=sorted_topics)\n",
        "\n",
        "# Set the title and axis labels of the plot\n",
        "g.fig.suptitle('Trends in Behavioral Risk Among Students Over the Years', fontsize=10)\n",
        "g.set_axis_labels('Year', 'Risk Data Value', fontsize=10)\n",
        "\n",
        "# Set the tick marks and labels for the x-axis\n",
        "plt.xticks(range(df['Year'].min(), df['Year'].max()+1, 2), fontsize=10)\n",
        "\n",
        "# Set the threshold values for the legend\n",
        "thresholds = [20, 40, 60]\n",
        "\n",
        "# Draw vertical lines at the threshold values\n",
        "for threshold in thresholds:\n",
        "    plt.axhline(y=threshold, color='grey', linestyle='--', linewidth=0.5)\n",
        "    \n",
        "    # Add text labels next to the lines\n",
        "    plt.text(df['Year'].min()-0.5, threshold+1, str(threshold), fontsize=10, color='grey')\n",
        "\n",
        "# Show the plot\n",
        "plt.show()\n",
        "\n"
      ]
    },
    {
      "cell_type": "code",
      "source": [],
      "metadata": {
        "id": "22wgeYEI453u"
      },
      "execution_count": null,
      "outputs": []
    },
    {
      "cell_type": "markdown",
      "metadata": {
        "id": "e214X7oU7gqf"
      },
      "source": [
        "### Zoom Into Key Patterns for above observations"
      ]
    },
    {
      "cell_type": "code",
      "execution_count": null,
      "metadata": {
        "id": "OwIDSXPPdhWA"
      },
      "outputs": [],
      "source": [
        "# filter the data for 'Tobacco Use' and 'Alcohol Use' topics only\n",
        "filtered_data = df.loc[df['Topic'].isin(['Alcohol and Other Drug Use','Dietary Behaviors','Mental Health','Tobacco Use','Unintentional Injuries and Violence'])]\n",
        "\n",
        "# Sort the dataframe by the count of each Topic in descending order\n",
        "topic_counts = filtered_data['Topic'].value_counts().sort_values(ascending=False)\n",
        "sorted_topics = list(topic_counts.index)\n",
        "sorted_topics\n",
        "\n",
        "# Plot the line chart with the legend order based on the sorted_topics list\n",
        "g = sns.relplot(x='Year', y='Greater_Risk_Data_Value', hue='Topic', kind='line', data=df, height=6, aspect=1.2,  hue_order=sorted_topics)\n",
        "\n",
        "# Set the title and axis labels of the plot\n",
        "g.fig.suptitle('Trends in Behavioral Risk Among Students Over the Years', fontsize=10)\n",
        "g.set_axis_labels('Year', 'Risk Data Value', fontsize=10)\n",
        "\n",
        "# Set the tick marks and labels for the x-axis\n",
        "plt.xticks(range(df['Year'].min(), df['Year'].max()+1, 2), fontsize=10)\n",
        "\n",
        "# Set the threshold values for the legend\n",
        "thresholds = [20, 40, 60]\n",
        "\n",
        "# Draw vertical lines at the threshold values\n",
        "for threshold in thresholds:\n",
        "    plt.axhline(y=threshold, color='grey', linestyle='--', linewidth=0.5)\n",
        "    \n",
        "    # Add text labels next to the lines\n",
        "    plt.text(df['Year'].min()-0.5, threshold+1, str(threshold), fontsize=10, color='grey')\n",
        "\n",
        "# Show the plot\n",
        "plt.show()"
      ]
    },
    {
      "cell_type": "markdown",
      "metadata": {
        "id": "teOjgFr69Ziy"
      },
      "source": [
        "# **Analysis Question 2:\tWhat trends have occurred in different  among different region?**"
      ]
    },
    {
      "cell_type": "code",
      "execution_count": null,
      "metadata": {
        "id": "SwiWqOVtphjX"
      },
      "outputs": [],
      "source": [
        "\n",
        "sns.set_style('whitegrid')\n",
        "sns.set_palette('Paired')\n",
        "\n",
        "# Get unique topics from Topic column and sort alphabetically\n",
        "unique_topics = sorted(filtered_data['Subtopic'].unique())\n",
        "\n",
        "# Sort the dataframe by the Topic column\n",
        "df_sorted = df.sort_values('Subtopic')\n",
        "\n",
        "plt.figure(figsize=(15, 10))\n",
        "ax = sns.barplot(x=\"StratificationType\", y=\"Greater_Risk_Data_Value\", hue=\"Subtopic\", data=df_sorted, errorbar=None)\n",
        "ax.set_xticklabels(ax.get_xticklabels(),fontsize=9)\n",
        "plt.title(\"Regional Trends in Behavioral Risk Among Students\", fontsize=16)\n",
        "plt.xlabel(\"Region\", fontsize=10)\n",
        "plt.ylabel(\"Greater Risk Data Value\", fontsize=12)\n",
        "\n",
        "plt.legend(bbox_to_anchor=(1.05, 1), loc=2, borderaxespad=0., fontsize=10)\n",
        "\n",
        "\n",
        "plt.tight_layout()\n",
        "plt.show()\n"
      ]
    },
    {
      "cell_type": "code",
      "source": [
        "filtered_data = df.loc[df['Subtopic'].isin(['Alcohol Use', 'Cigarette Use','Other Drug Use','Mental Health'])]\n",
        "\n",
        "sns.set_style('whitegrid')\n",
        "sns.set_palette('Paired')\n",
        "\n",
        "# Get unique topics from Topic column and sort alphabetically\n",
        "unique_topics = sorted(filtered_data['Subtopic'].unique())\n",
        "\n",
        "# Sort the dataframe by the Topic column\n",
        "df_sorted = filtered_data.sort_values('Subtopic')\n",
        "\n",
        "plt.figure(figsize=(15, 10))\n",
        "ax = sns.barplot(x=\"StratificationType\", y=\"Greater_Risk_Data_Value\", hue=\"Subtopic\", data=df_sorted, errorbar=None,palette=\"Set2\")\n",
        "ax.set_xticklabels(ax.get_xticklabels(),fontsize=9)\n",
        "plt.title(\"Regional Trends in Behavioral Risk Among Students\", fontsize=16)\n",
        "plt.xlabel(\"Region\", fontsize=10)\n",
        "plt.ylabel(\"Greater Risk Data Value\", fontsize=12)\n",
        "\n",
        "# Loop through each bar and add the corresponding value as text on top of it\n",
        "for p in ax.containers:\n",
        "    ax.bar_label(p, label_type='edge',rotation=90 ,fontsize=10)\n",
        "    \n",
        "\n",
        "plt.legend(bbox_to_anchor=(1.05, 1), loc=2, borderaxespad=0., fontsize=10)\n",
        "\n",
        "\n",
        "plt.tight_layout()\n",
        "plt.show()\n"
      ],
      "metadata": {
        "id": "iiisrR2aOaFO"
      },
      "execution_count": null,
      "outputs": []
    },
    {
      "cell_type": "markdown",
      "metadata": {
        "id": "clRgPlLMUfFM"
      },
      "source": [
        "# **Analysis Question 3: Which top locations have major issues related to juvenile mental health?**"
      ]
    },
    {
      "cell_type": "code",
      "execution_count": null,
      "metadata": {
        "id": "OD_GG60ZUb_-"
      },
      "outputs": [],
      "source": [
        "sns.set_style('whitegrid')\n",
        "\n",
        "# Filter the data for Mental Health subtopic\n",
        "mental_health_data = df[df['Subtopic'] == 'Mental Health']\n",
        "\n",
        "# Group the data by LocationDesc and calculate the mean of Greater_Risk_Data_Value\n",
        "location_mean = mental_health_data.groupby('LocationDesc')['Greater_Risk_Data_Value'].mean()\n",
        "\n",
        "# Sort the data in descending order and select the top 5 values\n",
        "top_5_locations = location_mean.sort_values(ascending=False).head(5)\n",
        "# Set the color palette to \"deep\"\n",
        "sns.set_palette(\"deep\")\n",
        "# Filter the original data by the top 5 locations\n",
        "filtered_data = df[df['LocationDesc'].isin(top_5_locations.index)]\n",
        "\n",
        "# Create a barplot of Greater_Risk_Data_Value for each location, grouped by Sex\n",
        "sns.set(style='whitegrid', font_scale=1.2)\n",
        "plt.figure(figsize=(10, 8))\n",
        "ax = sns.barplot(x='LocationDesc', y='Greater_Risk_Data_Value', hue='Sex', data=filtered_data, width=0.9,palette=\"Set3\", errorbar=None)\n",
        "\n",
        "\n",
        "# Loop through each bar and add the corresponding value as text on top of it\n",
        "for p in ax.containers:\n",
        "    ax.bar_label(p, label_type='center', fontsize=8.5)\n",
        "    \n",
        "ax.set_xticklabels(ax.get_xticklabels(),fontsize=8.3)\n",
        "plt.xlabel(\"Region\", fontsize=10)\n",
        "plt.ylabel(\"Greater Risk Data Value\", fontsize=12)\n",
        "plt.xlabel('Location')\n",
        "plt.ylabel('Risk Value')\n",
        "plt.title('Top 5 cities leading in mental health risk')\n",
        "ax.legend(title='Gender', title_fontsize=12)\n",
        "plt.show()\n",
        "\n"
      ]
    },
    {
      "cell_type": "markdown",
      "metadata": {
        "id": "YbJwqYIw2qt3"
      },
      "source": [
        "# **Analysis Question 4: What type of major and minor risks occurred between different genders and age?**"
      ]
    },
    {
      "cell_type": "code",
      "execution_count": null,
      "metadata": {
        "id": "__2aJkbkjBz-"
      },
      "outputs": [],
      "source": [
        "# Create pivot tables for major and minor risks\n",
        "pt_major = pd.pivot_table(df, values='Greater_Risk_Data_Value', index='Age_Midpoint', columns=['Sex'], aggfunc=np.mean)\n",
        "\n",
        "\n",
        "# Create a heatmap of Greater_Risk_Data_Value by Age_Midpoint and Sex\n",
        "sns.set(style='whitegrid', font_scale=1.2)\n",
        "plt.figure(figsize=(10, 8))\n",
        "sns.heatmap(pt_major, annot=True, cmap='coolwarm', linewidths=0.5, fmt='.2f')\n",
        "plt.title('Major and minor Risk by Age and Gender')\n",
        "plt.xlabel('Gender')\n",
        "plt.ylabel('Age Midpoint')\n",
        "plt.show()\n",
        "\n"
      ]
    },
    {
      "cell_type": "markdown",
      "metadata": {
        "id": "b27MC5hfv6Pe"
      },
      "source": [
        "# **Analysis Question 5: What are the risk factors associated with negative health behaviors (e.g., tobacco use, alcohol use, Bullied etc) among students?**"
      ]
    },
    {
      "cell_type": "code",
      "execution_count": null,
      "metadata": {
        "id": "NlEgOCuOwFlw"
      },
      "outputs": [],
      "source": [
        "\n",
        "# Define the categories of risk factors\n",
        "categories=['Bad Habits','Bullied/ Violence','Suicidial Attempt','Others']\n",
        "categories1 = ['Alcohol use', 'Cigarette Use', 'Other Drug Use','Other Tobacco Use']\n",
        "categories2 = ['Behaviors that Contribute to Violence']\n",
        "categories3 = ['Mental Health']\n",
        "categories4 = ['Others']\n",
        "\n",
        "# Calculate the percentage of respondents who reported each risk factor\n",
        "tobacco_percent = df[df['Subtopic'].isin(categories1)]['Greater_Risk_Data_Value'].mean()\n",
        "alcohol_percent = df[df['Subtopic'].isin(categories2)]['Greater_Risk_Data_Value'].mean()\n",
        "violence_percent = df[df['Subtopic'].isin(categories3)]['Greater_Risk_Data_Value'].mean()\n",
        "other_percent = 100 - (tobacco_percent + alcohol_percent + violence_percent)\n",
        "\n",
        "# Create a list of the percentages\n",
        "percentages = [tobacco_percent, alcohol_percent, violence_percent, other_percent]\n",
        "# Generate a list of colors based on the number of categories\n",
        "\n",
        "# Set the color palette\n",
        "colors = sns.color_palette('pastel')[0:len(percentages)]\n",
        "# Create a pie chart\n",
        "plt.pie(percentages, labels=categories, autopct='%1.1f%%', textprops={'color': 'black'},colors=colors)\n",
        "# Add a legend\n",
        "plt.legend(bbox_to_anchor=(1.30, 1), loc=2, borderaxespad=0., fontsize=10)\n",
        "plt.title('Risk Factors Associated with Negative Health Behaviors')\n",
        "plt.show()"
      ]
    }
  ],
  "metadata": {
    "colab": {
      "collapsed_sections": [
        "0rFkuS2iAa9C",
        "ngcoBPEWBx0S",
        "kqj2KOT3DSmt"
      ],
      "provenance": [],
      "mount_file_id": "10rPhv9JlbYG6ZimDbUGxuUYy6B_O7wG6",
      "authorship_tag": "ABX9TyMjMY7Hhl95CLIXWAN99wup",
      "include_colab_link": true
    },
    "kernelspec": {
      "display_name": "Python 3",
      "name": "python3"
    },
    "language_info": {
      "name": "python"
    }
  },
  "nbformat": 4,
  "nbformat_minor": 0
}